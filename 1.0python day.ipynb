{
 "cells": [
  {
   "cell_type": "code",
   "execution_count": 3,
   "id": "40bb5552-17cb-4117-8dde-af838cba644a",
   "metadata": {},
   "outputs": [
    {
     "name": "stdout",
     "output_type": "stream",
     "text": [
      "hii\n"
     ]
    }
   ],
   "source": [
    "print('hii')"
   ]
  },
  {
   "cell_type": "code",
   "execution_count": 6,
   "id": "7cc536b7-672b-4789-a4ad-0d5d8b83d306",
   "metadata": {},
   "outputs": [
    {
     "name": "stdout",
     "output_type": "stream",
     "text": [
      "2\n"
     ]
    }
   ],
   "source": [
    "print(2)"
   ]
  },
  {
   "cell_type": "code",
   "execution_count": 8,
   "id": "efaf4805-6588-4345-9647-519478f46ebd",
   "metadata": {},
   "outputs": [
    {
     "name": "stdout",
     "output_type": "stream",
     "text": [
      "2\n"
     ]
    },
    {
     "data": {
      "text/plain": [
       "NoneType"
      ]
     },
     "execution_count": 8,
     "metadata": {},
     "output_type": "execute_result"
    }
   ],
   "source": [
    "type(print(2))"
   ]
  },
  {
   "cell_type": "code",
   "execution_count": 9,
   "id": "afb3bb7c-3ee8-4a0f-8d81-1f06971e77e0",
   "metadata": {},
   "outputs": [
    {
     "data": {
      "text/plain": [
       "529"
      ]
     },
     "execution_count": 9,
     "metadata": {},
     "output_type": "execute_result"
    }
   ],
   "source": [
    "23*23"
   ]
  },
  {
   "cell_type": "code",
   "execution_count": 10,
   "id": "d7e09401-fb5c-40eb-bedd-bc9dcb13654c",
   "metadata": {},
   "outputs": [
    {
     "data": {
      "text/plain": [
       "int"
      ]
     },
     "execution_count": 10,
     "metadata": {},
     "output_type": "execute_result"
    }
   ],
   "source": [
    "type(23*23)"
   ]
  },
  {
   "cell_type": "code",
   "execution_count": 15,
   "id": "7b615b1c-27fc-490a-852b-5e13f70990c8",
   "metadata": {},
   "outputs": [
    {
     "name": "stdout",
     "output_type": "stream",
     "text": [
      "hey i am a good boy \n",
      " and this viewer is alsso a good boy\n"
     ]
    }
   ],
   "source": [
    "# this is a single line coment\n",
    "# hy rohit please dont removae this line\n",
    "# Auther : rohit\n",
    "print('hey i am a good boy \\n and this viewer is alsso a good boy')"
   ]
  },
  {
   "cell_type": "code",
   "execution_count": 19,
   "id": "1a25c572-d8a4-4eae-8cb7-62dfa4c00f85",
   "metadata": {},
   "outputs": [
    {
     "data": {
      "text/plain": [
       "'hello rohit you are so amart because you areaamazing'"
      ]
     },
     "execution_count": 19,
     "metadata": {},
     "output_type": "execute_result"
    }
   ],
   "source": [
    "'''hello rohit you are so amart because you areaamazing'''"
   ]
  },
  {
   "cell_type": "code",
   "execution_count": 21,
   "id": "b4cfa1e7-f688-40c4-b23b-fc7a42abf291",
   "metadata": {},
   "outputs": [
    {
     "name": "stdout",
     "output_type": "stream",
     "text": [
      "hey i am \"good boy\" \n"
     ]
    }
   ],
   "source": [
    "print(\"hey i am \\\"good boy\\\" \")"
   ]
  },
  {
   "cell_type": "code",
   "execution_count": null,
   "id": "1ce3f061-03e4-4e6a-b839-645f4634524b",
   "metadata": {},
   "outputs": [],
   "source": []
  },
  {
   "cell_type": "code",
   "execution_count": 25,
   "id": "a9ecd616-20e8-43c5-9406-e19868227a1d",
   "metadata": {},
   "outputs": [
    {
     "name": "stdout",
     "output_type": "stream",
     "text": [
      "hey i am 'good boy' \n",
      "rohit is a good boy\n"
     ]
    }
   ],
   "source": [
    "print(\"hey i am \\'good boy\\' \\nrohit is a good boy\")"
   ]
  },
  {
   "cell_type": "code",
   "execution_count": 34,
   "id": "0b217b20-5f8d-4603-9625-ef2bc46641d5",
   "metadata": {},
   "outputs": [
    {
     "name": "stdout",
     "output_type": "stream",
     "text": [
      "hey_6_7 r;ohit\n"
     ]
    }
   ],
   "source": [
    "print('hey',6,7,sep=\"_\",end=\" \")\n",
    "print('r;ohit')"
   ]
  },
  {
   "cell_type": "code",
   "execution_count": 53,
   "id": "06cd7e96-f541-440f-b12c-2417fea07573",
   "metadata": {},
   "outputs": [
    {
     "name": "stdout",
     "output_type": "stream",
     "text": [
      "1\n",
      "rohit\n",
      "91\n",
      "the type of a is <class 'int'>\n",
      "1.2324 the type of d is  <class 'float'>\n",
      "(3+4j) the type of e is  <class 'complex'>\n"
     ]
    }
   ],
   "source": [
    "#today i study about datatype and variabke\n",
    "a=1\n",
    "print(a)\n",
    "#rohit = 9\n",
    "b='rohit'\n",
    "print(b)\n",
    "c=True\n",
    "#print(a+b)\n",
    "a1=90\n",
    "print(a+a1)\n",
    "print('the type of a is',type(a))\n",
    "type(c)\n",
    "type(b)\n",
    "d=1.2324\n",
    "print(d,'the type of d is ',type(d))\n",
    "e= 3+4j\n",
    "print(e,'the type of e is ',type(e))\n",
    "# list \n",
    "# tule  [all are data type]\n",
    "# set\n",
    "# dictionary "
   ]
  },
  {
   "cell_type": "code",
   "execution_count": 40,
   "id": "08258b94-fd29-4ce0-b7ba-9c73588f4f85",
   "metadata": {},
   "outputs": [
    {
     "data": {
      "text/plain": [
       "True"
      ]
     },
     "execution_count": 40,
     "metadata": {},
     "output_type": "execute_result"
    }
   ],
   "source": [
    "c"
   ]
  },
  {
   "cell_type": "code",
   "execution_count": 59,
   "id": "1223dd2a-6b3f-49ed-b756-840ffbe77801",
   "metadata": {},
   "outputs": [
    {
     "name": "stdout",
     "output_type": "stream",
     "text": [
      "11\n",
      "9\n",
      "2.5\n",
      "90\n",
      "3\n",
      "2\n",
      "16\n"
     ]
    }
   ],
   "source": [
    "# operator in python\n",
    "# Addition operator\n",
    "print(5+6)\n",
    "# subtraction operator \n",
    "print(15-6)\n",
    "# sivision ope\n",
    "print(15/6)\n",
    "#multiplicatiion operator\n",
    "print(15*6)\n",
    "# modulo operator\n",
    "print(15%6)\n",
    "# floor division\n",
    "print(15//6)\n",
    "# exponsial operatoe\n",
    "print(2**4)"
   ]
  },
  {
   "cell_type": "code",
   "execution_count": 72,
   "id": "72470779-5ff7-42c5-a606-5377b56d57db",
   "metadata": {},
   "outputs": [
    {
     "name": "stdout",
     "output_type": "stream",
     "text": [
      "sum of 12 + 4 is 16\n",
      "subtract of 12 - 4 is 8\n",
      "mul of a and b is 48\n",
      "div of a and b  3.0\n",
      "modul of a and b is  0\n"
     ]
    }
   ],
   "source": [
    "a=12\n",
    "b=4\n",
    "add=a+b\n",
    "print('sum of', a, '+', b ,'is', add)\n",
    "sub = a-b\n",
    "print('subtract of', a ,'-', b ,'is',sub)\n",
    "mul = a*b\n",
    "print('mul of', a and b is',mul)\n",
    "div = a/b\n",
    "print('div of a and b ',div)\n",
    "modul = a%b\n",
    "print('modul of a and b is ',modul)"
   ]
  },
  {
   "cell_type": "code",
   "execution_count": 77,
   "id": "96b7cc4e-5d1b-4ff1-b430-dea98386f9d9",
   "metadata": {},
   "outputs": [
    {
     "name": "stdout",
     "output_type": "stream",
     "text": [
      "12\n",
      "3\n",
      "8\n",
      "3.2\n"
     ]
    }
   ],
   "source": [
    "#type casting\n",
    "a='1'\n",
    "b='2'\n",
    "print(a+b)\n",
    "a=1\n",
    "b=2\n",
    "print(a+b)\n",
    "# int(),float(),str(),hex(),oct(),tuple(),set(),list(),etc type casting in \n",
    "# python\n",
    "c='4'\n",
    "d='4'\n",
    "print(int(c)+int(d))\n",
    "# 1 explict conversion by me\n",
    "# 2 emplicit conversion by python\n",
    "e=1.2\n",
    "f=2\n",
    "print(e+f)"
   ]
  },
  {
   "cell_type": "code",
   "execution_count": null,
   "id": "08eab0e7-c93f-408c-a8bc-dae3e3d8bcc1",
   "metadata": {},
   "outputs": [],
   "source": []
  }
 ],
 "metadata": {
  "kernelspec": {
   "display_name": "Python 3 (ipykernel)",
   "language": "python",
   "name": "python3"
  },
  "language_info": {
   "codemirror_mode": {
    "name": "ipython",
    "version": 3
   },
   "file_extension": ".py",
   "mimetype": "text/x-python",
   "name": "python",
   "nbconvert_exporter": "python",
   "pygments_lexer": "ipython3",
   "version": "3.10.8"
  }
 },
 "nbformat": 4,
 "nbformat_minor": 5
}
